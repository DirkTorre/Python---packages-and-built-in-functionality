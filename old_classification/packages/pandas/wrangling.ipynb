{
 "cells": [
  {
   "cell_type": "code",
   "execution_count": 12,
   "metadata": {},
   "outputs": [
    {
     "name": "stdout",
     "output_type": "stream",
     "text": [
      "       Name  Age  Height (cm)  Is_Employee Favorite_Color    Income  \\\n",
      "0     Alice   25        165.5         True           Blue  55000.00   \n",
      "1       Bob   30        180.2        False            Red  62000.50   \n",
      "2   Charlie   22        172.8         True          Green  48000.75   \n",
      "3     David   28        168.0         True         Yellow  59000.25   \n",
      "4       Eva   33        175.3        False         Purple  54000.00   \n",
      "5     Frank   27        169.7         True         Orange  60000.00   \n",
      "6     Grace   24        163.4        False           Pink  51000.50   \n",
      "7    Hannah   29        177.9         True           Teal  63000.75   \n",
      "8     Isaac   31        170.6         True          Brown  57000.25   \n",
      "9     Julia   26        174.0        False           Gray  53000.00   \n",
      "10    Katie   22        170.1         True         Yellow  59000.20   \n",
      "11     Liam   27        175.8         True          Green  60000.00   \n",
      "12      Mia   26        165.5        False           Blue  49000.50   \n",
      "13     Noah   31        172.3         True            Red  53000.00   \n",
      "14   Olivia   25        163.4        False         Purple  55000.75   \n",
      "\n",
      "                  Hobbies  \n",
      "0      [Reading, Cooking]  \n",
      "1   [Hiking, Photography]  \n",
      "2   [Painting, Gardening]  \n",
      "3    [Running, Traveling]  \n",
      "4       [Swimming, Music]  \n",
      "5          [Coding, Yoga]  \n",
      "6       [Dancing, Movies]  \n",
      "7      [Cycling, Singing]  \n",
      "8        [Chess, Writing]  \n",
      "9    [Drawing, Sculpting]  \n",
      "10    [Gardening, Movies]  \n",
      "11      [Dancing, Hiking]  \n",
      "12  [Coding, Photography]  \n",
      "13     [Drawing, Cooking]  \n",
      "14    [Cycling, Painting]  \n"
     ]
    }
   ],
   "source": [
    "import pandas as pd\n",
    "import numpy as np\n",
    "\n",
    "# generating a dummie dataset using chatgpt\n",
    "\n",
    "# Create the original dataframe\n",
    "data = {\n",
    "    'Name': ['Alice', 'Bob', 'Charlie', 'David', 'Eva', 'Frank', 'Grace', 'Hannah', 'Isaac', 'Julia'],\n",
    "    'Age': [25, 30, 22, 28, 33, 27, 24, 29, 31, 26],\n",
    "    'Height (cm)': [165.5, 180.2, 172.8, 168.0, 175.3, 169.7, 163.4, 177.9, 170.6, 174.0],\n",
    "    'Is_Employee': [True, False, True, True, False, True, False, True, True, False],\n",
    "    'Favorite_Color': ['Blue', 'Red', 'Green', 'Yellow', 'Purple', 'Orange', 'Pink', 'Teal', 'Brown', 'Gray'],\n",
    "    'Income': [55_000.0, 62_000.5, 48_000.75, 59_000.25, 54_000.0, 60_000.0, 51_000.5, 63_000.75, 57_000.25, 53_000.0],\n",
    "    'Hobbies': [\n",
    "        ['Reading', 'Cooking'],\n",
    "        ['Hiking', 'Photography'],\n",
    "        ['Painting', 'Gardening'],\n",
    "        ['Running', 'Traveling'],\n",
    "        ['Swimming', 'Music'],\n",
    "        ['Coding', 'Yoga'],\n",
    "        ['Dancing', 'Movies'],\n",
    "        ['Cycling', 'Singing'],\n",
    "        ['Chess', 'Writing'],\n",
    "        ['Drawing', 'Sculpting']\n",
    "    ]\n",
    "}\n",
    "\n",
    "# Create a dataframe from additional data\n",
    "additional_data = {\n",
    "    'Name': ['Katie', 'Liam', 'Mia', 'Noah', 'Olivia'],\n",
    "    'Age': [22, 27, 26, 31, 25],\n",
    "    'Height (cm)': [170.1, 175.8, 165.5, 172.3, 163.4],\n",
    "    'Is_Employee': [True, True, False, True, False],\n",
    "    'Favorite_Color': ['Yellow', 'Green', 'Blue', 'Red', 'Purple'],\n",
    "    'Income': [59_000.20, 60_000.0, 49_000.5, 53_000.0, 55_000.75],\n",
    "    'Hobbies': [\n",
    "        ['Gardening', 'Movies'],\n",
    "        ['Dancing', 'Hiking'],\n",
    "        ['Coding', 'Photography'],\n",
    "        ['Drawing', 'Cooking'],\n",
    "        ['Cycling', 'Painting']\n",
    "    ]\n",
    "}\n",
    "\n",
    "# Concatenate the dataframes\n",
    "df = pd.concat([pd.DataFrame(data), pd.DataFrame(additional_data)], ignore_index=True)\n",
    "\n",
    "# Display the updated dataframe\n",
    "print(df)"
   ]
  },
  {
   "cell_type": "markdown",
   "metadata": {},
   "source": [
    "# Melt\n",
    "Make a wide table long. Supports multiIndex\n",
    "\n",
    "\n",
    "<table>\n",
    "<thead>\n",
    "    <tr style=\"text-align: right;\">      \n",
    "        <th>From</th>\n",
    "        <th>To</th>\n",
    "    </tr>\n",
    "</thead>\n",
    "<tbody>\n",
    "    <tr style=\"text-align: center;\">      \n",
    "        <th>\n",
    "            <table border=\"1\" class=\"dataframe\">  <thead>    <tr style=\"text-align: right;\">      <th></th>      <th>A</th>      <th>B</th>      <th>C</th>    </tr>  </thead>  <tbody>    <tr>      <th>0</th>      <td>a</td>      <td>1</td>      <td>2</td>    </tr>    <tr>      <th>1</th>      <td>b</td>      <td>3</td>      <td>4</td>    </tr>    <tr>      <th>2</th>      <td>c</td>      <td>5</td>      <td>6</td>    </tr>  </tbody></table>\n",
    "        </th>\n",
    "        <th>\n",
    "            <table border=\"1\" class=\"dataframe\">  <thead>    <tr style=\"text-align: right;\">      <th></th>      <th>A</th>      <th>variable</th>      <th>value</th>    </tr>  </thead>  <tbody>    <tr>      <th>0</th>      <td>a</td>      <td>B</td>      <td>1</td>    </tr>    <tr>      <th>1</th>      <td>b</td>      <td>B</td>      <td>3</td>    </tr>    <tr>      <th>2</th>      <td>c</td>      <td>B</td>      <td>5</td>    </tr>    <tr>      <th>3</th>      <td>a</td>      <td>C</td>      <td>2</td>    </tr>    <tr>      <th>4</th>      <td>b</td>      <td>C</td>      <td>4</td>    </tr>    <tr>      <th>5</th>      <td>c</td>      <td>C</td>      <td>6</td>    </tr>  </tbody></table>\n",
    "        </th>\n",
    "    </tr>\n",
    "</tbody>\n",
    "</table>"
   ]
  },
  {
   "cell_type": "code",
   "execution_count": 29,
   "metadata": {},
   "outputs": [
    {
     "data": {
      "text/html": [
       "<div>\n",
       "<style scoped>\n",
       "    .dataframe tbody tr th:only-of-type {\n",
       "        vertical-align: middle;\n",
       "    }\n",
       "\n",
       "    .dataframe tbody tr th {\n",
       "        vertical-align: top;\n",
       "    }\n",
       "\n",
       "    .dataframe thead th {\n",
       "        text-align: right;\n",
       "    }\n",
       "</style>\n",
       "<table border=\"1\" class=\"dataframe\">\n",
       "  <thead>\n",
       "    <tr style=\"text-align: right;\">\n",
       "      <th></th>\n",
       "      <th>A</th>\n",
       "      <th>variable</th>\n",
       "      <th>value</th>\n",
       "    </tr>\n",
       "  </thead>\n",
       "  <tbody>\n",
       "    <tr>\n",
       "      <th>0</th>\n",
       "      <td>a</td>\n",
       "      <td>B</td>\n",
       "      <td>1</td>\n",
       "    </tr>\n",
       "    <tr>\n",
       "      <th>1</th>\n",
       "      <td>b</td>\n",
       "      <td>B</td>\n",
       "      <td>3</td>\n",
       "    </tr>\n",
       "    <tr>\n",
       "      <th>2</th>\n",
       "      <td>c</td>\n",
       "      <td>B</td>\n",
       "      <td>5</td>\n",
       "    </tr>\n",
       "    <tr>\n",
       "      <th>3</th>\n",
       "      <td>a</td>\n",
       "      <td>C</td>\n",
       "      <td>2</td>\n",
       "    </tr>\n",
       "    <tr>\n",
       "      <th>4</th>\n",
       "      <td>b</td>\n",
       "      <td>C</td>\n",
       "      <td>4</td>\n",
       "    </tr>\n",
       "    <tr>\n",
       "      <th>5</th>\n",
       "      <td>c</td>\n",
       "      <td>C</td>\n",
       "      <td>6</td>\n",
       "    </tr>\n",
       "  </tbody>\n",
       "</table>\n",
       "</div>"
      ],
      "text/plain": [
       "   A variable  value\n",
       "0  a        B      1\n",
       "1  b        B      3\n",
       "2  c        B      5\n",
       "3  a        C      2\n",
       "4  b        C      4\n",
       "5  c        C      6"
      ]
     },
     "execution_count": 29,
     "metadata": {},
     "output_type": "execute_result"
    }
   ],
   "source": [
    "df = pd.DataFrame({'A': {0: 'a', 1: 'b', 2: 'c'},\n",
    "                   'B': {0: 1, 1: 3, 2: 5},\n",
    "                   'C': {0: 2, 1: 4, 2: 6}})\n",
    "pd.melt(df, id_vars=['A'], value_vars=['B', 'C'])"
   ]
  },
  {
   "cell_type": "markdown",
   "metadata": {},
   "source": [
    "# wide_to_long\n",
    "\n",
    "Simple version of melt"
   ]
  },
  {
   "cell_type": "markdown",
   "metadata": {},
   "source": [
    "# pivot\n",
    "\n",
    "Basically a long table turned into a summery of the variable pair combinations.\n",
    "\n",
    "Turn a column into the index, another column into headers, and a third column into associated values.\n",
    "\n",
    "<table>\n",
    "<thead>\n",
    "    <tr style=\"text-align: right;\">      \n",
    "        <th>From</th>\n",
    "        <th>To</th>\n",
    "    </tr>\n",
    "</thead>\n",
    "<tbody>   \n",
    "    <tr style=\"text-align: center;\">\n",
    "        <td>\n",
    "            <table border=\"1\" class=\"dataframe\">  <thead>    <tr style=\"text-align: right;\">      <th></th>      <th>foo</th>      <th>bar</th>      <th>baz</th>    </tr>  </thead>  <tbody>    <tr>      <th>0</th>      <td>one</td>      <td>A</td>      <td>1</td>    </tr>    <tr>      <th>1</th>      <td>one</td>      <td>B</td>      <td>2</td>    </tr>    <tr>      <th>2</th>      <td>one</td>      <td>C</td>      <td>3</td>    </tr>    <tr>      <th>3</th>      <td>two</td>      <td>A</td>      <td>4</td>    </tr>    <tr>      <th>4</th>      <td>two</td>      <td>B</td>      <td>5</td>    </tr>    <tr>      <th>5</th>      <td>two</td>      <td>C</td>      <td>6</td>    </tr>  </tbody></table>\n",
    "        </td>\n",
    "        <td>\n",
    "            <table border=\"1\" class=\"dataframe\">  <thead>    <tr style=\"text-align: right;\">      <th>bar</th>      <th>A</th>      <th>B</th>      <th>C</th>    </tr>    <tr>      <th>foo</th>      <th></th>      <th></th>      <th></th>    </tr>  </thead>  <tbody>    <tr>      <th>one</th>      <td>1</td>      <td>2</td>      <td>3</td>    </tr>    <tr>      <th>two</th>      <td>4</td>      <td>5</td>      <td>6</td>    </tr>  </tbody></table>\n",
    "        </td>\n",
    "    </tr>\n",
    "</tbody>\n",
    "</table>\n"
   ]
  },
  {
   "cell_type": "code",
   "execution_count": 44,
   "metadata": {},
   "outputs": [
    {
     "data": {
      "text/html": [
       "<div>\n",
       "<style scoped>\n",
       "    .dataframe tbody tr th:only-of-type {\n",
       "        vertical-align: middle;\n",
       "    }\n",
       "\n",
       "    .dataframe tbody tr th {\n",
       "        vertical-align: top;\n",
       "    }\n",
       "\n",
       "    .dataframe thead th {\n",
       "        text-align: right;\n",
       "    }\n",
       "</style>\n",
       "<table border=\"1\" class=\"dataframe\">\n",
       "  <thead>\n",
       "    <tr style=\"text-align: right;\">\n",
       "      <th>bar</th>\n",
       "      <th>A</th>\n",
       "      <th>B</th>\n",
       "      <th>C</th>\n",
       "    </tr>\n",
       "    <tr>\n",
       "      <th>foo</th>\n",
       "      <th></th>\n",
       "      <th></th>\n",
       "      <th></th>\n",
       "    </tr>\n",
       "  </thead>\n",
       "  <tbody>\n",
       "    <tr>\n",
       "      <th>one</th>\n",
       "      <td>1</td>\n",
       "      <td>2</td>\n",
       "      <td>3</td>\n",
       "    </tr>\n",
       "    <tr>\n",
       "      <th>two</th>\n",
       "      <td>4</td>\n",
       "      <td>5</td>\n",
       "      <td>6</td>\n",
       "    </tr>\n",
       "  </tbody>\n",
       "</table>\n",
       "</div>"
      ],
      "text/plain": [
       "bar  A  B  C\n",
       "foo         \n",
       "one  1  2  3\n",
       "two  4  5  6"
      ]
     },
     "execution_count": 44,
     "metadata": {},
     "output_type": "execute_result"
    }
   ],
   "source": [
    "df = pd.DataFrame({'foo': ['one', 'one', 'one', 'two', 'two',\n",
    "                           'two'],\n",
    "                   'bar': ['A', 'B', 'C', 'A', 'B', 'C'],\n",
    "                   'baz': [1, 2, 3, 4, 5, 6],\n",
    "                #    'zoo': ['x', 'y', 'z', 'q', 'w', 't']\n",
    "                })\n",
    "df.pivot(index='foo', columns='bar', values='baz')"
   ]
  },
  {
   "cell_type": "markdown",
   "metadata": {},
   "source": [
    "# pivot_table\n",
    "\n",
    "Same as pivot, but puts more elements in the value cell, which then are turned into one value using a function like sum. Allows mulitIndex for the rows. Allows multiple functions of which the results are added as columns.\n",
    "\n",
    "<table>\n",
    "<thead>\n",
    "    <tr style=\"text-align: right;\">      \n",
    "        <th>From</th>\n",
    "        <th>To</th>\n",
    "    </tr>\n",
    "</thead>\n",
    "<tbody>   \n",
    "    <tr style=\"text-align: center;\">\n",
    "        <td>\n",
    "            <table border=\"1\" class=\"dataframe\">  <thead>    <tr style=\"text-align: right;\">      <th></th>      <th>A</th>      <th>B</th>      <th>C</th>      <th>D</th>      <th>E</th>    </tr>  </thead>  <tbody>    <tr>      <th>0</th>      <td>foo</td>      <td>one</td>      <td>small</td>      <td>1</td>      <td>2</td>    </tr>    <tr>      <th>1</th>      <td>foo</td>      <td>one</td>      <td>large</td>      <td>2</td>      <td>4</td>    </tr>    <tr>      <th>2</th>      <td>foo</td>      <td>one</td>      <td>large</td>      <td>2</td>      <td>5</td>    </tr>    <tr>      <th>3</th>      <td>foo</td>      <td>two</td>      <td>small</td>      <td>3</td>      <td>5</td>    </tr>    <tr>      <th>4</th>      <td>foo</td>      <td>two</td>      <td>small</td>      <td>3</td>      <td>6</td>    </tr>    <tr>      <th>5</th>      <td>bar</td>      <td>one</td>      <td>large</td>      <td>4</td>      <td>6</td>    </tr>    <tr>      <th>6</th>      <td>bar</td>      <td>one</td>      <td>small</td>      <td>5</td>      <td>8</td>    </tr>    <tr>      <th>7</th>      <td>bar</td>      <td>two</td>      <td>small</td>      <td>6</td>      <td>9</td>    </tr>    <tr>      <th>8</th>      <td>bar</td>      <td>two</td>      <td>large</td>      <td>7</td>      <td>9</td>    </tr>  </tbody></table>\n",
    "        </td>\n",
    "        <td>\n",
    "            <table border=\"1\" class=\"dataframe\">  <thead>    <tr style=\"text-align: right;\">      <th></th>      <th>C</th>      <th>large</th>      <th>small</th>    </tr>    <tr>      <th>A</th>      <th>B</th>      <th></th>      <th></th>    </tr>  </thead>  <tbody>    <tr>      <th rowspan=\"2\" valign=\"top\">bar</th>      <th>one</th>      <td>4.0</td>      <td>5.0</td>    </tr>    <tr>      <th>two</th>      <td>7.0</td>      <td>6.0</td>    </tr>    <tr>      <th rowspan=\"2\" valign=\"top\">foo</th>      <th>one</th>      <td>4.0</td>      <td>1.0</td>    </tr>    <tr>      <th>two</th>      <td>NaN</td>      <td>6.0</td>    </tr>  </tbody></table>    \n",
    "        </td>\n",
    "    </tr>\n",
    "</tbody>\n",
    "</table>"
   ]
  },
  {
   "cell_type": "code",
   "execution_count": 54,
   "metadata": {},
   "outputs": [
    {
     "data": {
      "text/html": [
       "<div>\n",
       "<style scoped>\n",
       "    .dataframe tbody tr th:only-of-type {\n",
       "        vertical-align: middle;\n",
       "    }\n",
       "\n",
       "    .dataframe tbody tr th {\n",
       "        vertical-align: top;\n",
       "    }\n",
       "\n",
       "    .dataframe thead th {\n",
       "        text-align: right;\n",
       "    }\n",
       "</style>\n",
       "<table border=\"1\" class=\"dataframe\">\n",
       "  <thead>\n",
       "    <tr style=\"text-align: right;\">\n",
       "      <th></th>\n",
       "      <th>C</th>\n",
       "      <th>large</th>\n",
       "      <th>small</th>\n",
       "    </tr>\n",
       "    <tr>\n",
       "      <th>A</th>\n",
       "      <th>B</th>\n",
       "      <th></th>\n",
       "      <th></th>\n",
       "    </tr>\n",
       "  </thead>\n",
       "  <tbody>\n",
       "    <tr>\n",
       "      <th rowspan=\"2\" valign=\"top\">bar</th>\n",
       "      <th>one</th>\n",
       "      <td>4.0</td>\n",
       "      <td>5.0</td>\n",
       "    </tr>\n",
       "    <tr>\n",
       "      <th>two</th>\n",
       "      <td>7.0</td>\n",
       "      <td>6.0</td>\n",
       "    </tr>\n",
       "    <tr>\n",
       "      <th rowspan=\"2\" valign=\"top\">foo</th>\n",
       "      <th>one</th>\n",
       "      <td>4.0</td>\n",
       "      <td>1.0</td>\n",
       "    </tr>\n",
       "    <tr>\n",
       "      <th>two</th>\n",
       "      <td>NaN</td>\n",
       "      <td>6.0</td>\n",
       "    </tr>\n",
       "  </tbody>\n",
       "</table>\n",
       "</div>"
      ],
      "text/plain": [
       "C        large  small\n",
       "A   B                \n",
       "bar one    4.0    5.0\n",
       "    two    7.0    6.0\n",
       "foo one    4.0    1.0\n",
       "    two    NaN    6.0"
      ]
     },
     "execution_count": 54,
     "metadata": {},
     "output_type": "execute_result"
    }
   ],
   "source": [
    "df = pd.DataFrame({\"A\": [\"foo\", \"foo\", \"foo\", \"foo\", \"foo\",\n",
    "                         \"bar\", \"bar\", \"bar\", \"bar\"],\n",
    "                   \"B\": [\"one\", \"one\", \"one\", \"two\", \"two\",\n",
    "                         \"one\", \"one\", \"two\", \"two\"],\n",
    "                   \"C\": [\"small\", \"large\", \"large\", \"small\",\n",
    "                         \"small\", \"large\", \"small\", \"small\",\n",
    "                         \"large\"],\n",
    "                   \"D\": [1, 2, 2, 3, 3, 4, 5, 6, 7],\n",
    "                   \"E\": [2, 4, 5, 5, 6, 6, 8, 9, 9]})\n",
    "pd.pivot_table(df, values='D', index=['A', 'B'],\n",
    "                       columns=['C'], aggfunc=\"sum\")"
   ]
  },
  {
   "cell_type": "markdown",
   "metadata": {},
   "source": [
    "# crosstab\n",
    "\n",
    "Counts how many times values of a specific column appear for every item in another column.\n",
    "\n",
    "Computes the frequency of factors. (works a bit like 'multi-one-hot' or MultiLabelBinarizer )\n",
    "\n",
    "If duplicates are first removed before executing the crosstab function, you will get multi-one-hot.\n",
    "\n",
    "\n",
    "<table>\n",
    "<thead>\n",
    "    <tr style=\"text-align: right;\">      \n",
    "        <th>From</th>\n",
    "        <th>To</th>\n",
    "    </tr>\n",
    "</thead>\n",
    "<tbody>   \n",
    "    <tr style=\"text-align: center;\">\n",
    "        <td>\n",
    "            <table border=\"1\" class=\"dataframe\">  <thead>    <tr style=\"text-align: right;\">      <th></th>      <th>movie</th>      <th>genre</th>    </tr>  </thead>  <tbody>    <tr>      <th>0</th>      <td>The Matrix</td>      <td>action</td>    </tr>    <tr>      <th>1</th>      <td>The Matrix</td>      <td>sci-fi</td>    </tr>    <tr>      <th>3</th>      <td>Dr. Strangelove</td>      <td>war</td>    </tr>    <tr>      <th>4</th>      <td>Dr. Strangelove</td>      <td>comedy</td>    </tr>    <tr>      <th>5</th>      <td>Dr. Strangelove</td>      <td>comedy</td>    </tr>  </tbody></table>\n",
    "        </td>\n",
    "        <td>\n",
    "            <table border=\"1\" class=\"dataframe\">  <thead>    <tr style=\"text-align: right;\">      <th>genre</th>      <th>action</th>      <th>comedy</th>      <th>sci-fi</th>      <th>war</th>    </tr>    <tr>      <th>movie</th>      <th></th>      <th></th>      <th></th>      <th></th>    </tr>  </thead>  <tbody>    <tr>      <th>Dr. Strangelove</th>      <td>0</td>      <td>2</td>      <td>0</td>      <td>1</td>    </tr>    <tr>      <th>The Matrix</th>      <td>1</td>      <td>0</td>      <td>1</td>      <td>0</td>    </tr>  </tbody></table>\n",
    "        </td>\n",
    "    </tr>\n",
    "</tbody>\n",
    "</table>"
   ]
  },
  {
   "cell_type": "code",
   "execution_count": 68,
   "metadata": {},
   "outputs": [
    {
     "data": {
      "text/plain": [
       "'<table border=\"1\" class=\"dataframe\">  <thead>    <tr style=\"text-align: right;\">      <th></th>      <th>movie</th>      <th>genre</th>    </tr>  </thead>  <tbody>    <tr>      <th>0</th>      <td>The Matrix</td>      <td>action</td>    </tr>    <tr>      <th>1</th>      <td>The Matrix</td>      <td>sci-fi</td>    </tr>    <tr>      <th>3</th>      <td>Dr. Strangelove</td>      <td>war</td>    </tr>    <tr>      <th>4</th>      <td>Dr. Strangelove</td>      <td>comedy</td>    </tr>    <tr>      <th>5</th>      <td>Dr. Strangelove</td>      <td>comedy</td>    </tr>  </tbody></table>'"
      ]
     },
     "execution_count": 68,
     "metadata": {},
     "output_type": "execute_result"
    }
   ],
   "source": [
    "df = pd.DataFrame({'movie': {0: 'The Matrix', 1: 'The Matrix', 3: 'Dr. Strangelove', 4: 'Dr. Strangelove', 5: 'Dr. Strangelove'},\n",
    "                   'genre': {0: \"action\", 1: \"sci-fi\", 3: \"war\", 4: \"comedy\",  5: \"comedy\"}})\n",
    "df.to_html().replace(\"\\n\",'')"
   ]
  },
  {
   "cell_type": "code",
   "execution_count": 69,
   "metadata": {},
   "outputs": [
    {
     "data": {
      "text/plain": [
       "'<table border=\"1\" class=\"dataframe\">  <thead>    <tr style=\"text-align: right;\">      <th>genre</th>      <th>action</th>      <th>comedy</th>      <th>sci-fi</th>      <th>war</th>    </tr>    <tr>      <th>movie</th>      <th></th>      <th></th>      <th></th>      <th></th>    </tr>  </thead>  <tbody>    <tr>      <th>Dr. Strangelove</th>      <td>0</td>      <td>2</td>      <td>0</td>      <td>1</td>    </tr>    <tr>      <th>The Matrix</th>      <td>1</td>      <td>0</td>      <td>1</td>      <td>0</td>    </tr>  </tbody></table>'"
      ]
     },
     "execution_count": 69,
     "metadata": {},
     "output_type": "execute_result"
    }
   ],
   "source": [
    "pd.crosstab(df.movie, df.genre).to_html().replace(\"\\n\",\"\")"
   ]
  },
  {
   "cell_type": "markdown",
   "metadata": {},
   "source": [
    "# Explode"
   ]
  },
  {
   "cell_type": "markdown",
   "metadata": {},
   "source": [
    "<table>\n",
    "<thead>\n",
    "    <tr style=\"text-align: right;\">      \n",
    "        <th>From</th>\n",
    "        <th>To</th>\n",
    "    </tr>\n",
    "</thead>\n",
    "<tbody>   \n",
    "    <tr style=\"text-align: center;\">\n",
    "        <td>\n",
    "            \n",
    "        </td>\n",
    "        <td>\n",
    "            \n",
    "        </td>\n",
    "    </tr>\n",
    "</tbody>\n",
    "</table>\n",
    "\n",
    "table.to_html().replace(\"\\n\",\"\")"
   ]
  },
  {
   "cell_type": "markdown",
   "metadata": {},
   "source": [
    "this also had a lot of interesting stuff: https://pandas.pydata.org/pandas-docs/stable/reference/frame.html"
   ]
  }
 ],
 "metadata": {
  "kernelspec": {
   "display_name": "p3122",
   "language": "python",
   "name": "python3"
  },
  "language_info": {
   "codemirror_mode": {
    "name": "ipython",
    "version": 3
   },
   "file_extension": ".py",
   "mimetype": "text/x-python",
   "name": "python",
   "nbconvert_exporter": "python",
   "pygments_lexer": "ipython3",
   "version": "3.12.2"
  }
 },
 "nbformat": 4,
 "nbformat_minor": 2
}
